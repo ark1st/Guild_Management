{
 "cells": [
  {
   "cell_type": "code",
   "execution_count": 1,
   "outputs": [],
   "source": [
    "import requests\n",
    "import selenium\n",
    "from selenium import webdriver\n",
    "from selenium.webdriver import ActionChains\n",
    "\n",
    "from selenium.webdriver.common.keys import Keys\n",
    "from selenium.webdriver.common.by import By\n",
    "\n",
    "from selenium.webdriver.support import expected_conditions as EC\n",
    "from selenium.webdriver.support.ui import Select\n",
    "from selenium.webdriver.support.ui import WebDriverWait\n",
    "from selenium.webdriver.common.alert import Alert\n",
    "from bs4 import BeautifulSoup\n",
    "import pandas as pd"
   ],
   "metadata": {
    "collapsed": false,
    "pycharm": {
     "name": "#%%\n"
    }
   }
  },
  {
   "cell_type": "code",
   "execution_count": 4,
   "outputs": [
    {
     "name": "stderr",
     "output_type": "stream",
     "text": [
      "C:\\Users\\mws10\\AppData\\Local\\Temp/ipykernel_18044/3051626249.py:6: DeprecationWarning: find_element_by_* commands are deprecated. Please use find_element() instead\n",
      "  new = driver.find_element_by_xpath('//*[@id=\"btn-sync\"]/span')\n"
     ]
    }
   ],
   "source": [
    "url = \"https://maple.gg/guild/reboot/LUMINOSO\"\n",
    "\n",
    "driver = webdriver.Chrome(executable_path='chromedriver')\n",
    "driver.get(url=url)\n",
    "\n",
    "new = driver.find_element_by_xpath('//*[@id=\"btn-sync\"]/span')\n",
    "new.click()\n",
    "Alert(driver).accept()\n",
    "html = driver.page_source"
   ],
   "metadata": {
    "collapsed": false,
    "pycharm": {
     "name": "#%%\n"
    }
   }
  },
  {
   "cell_type": "code",
   "execution_count": 5,
   "outputs": [],
   "source": [
    "soup = BeautifulSoup(html, 'html.parser')\n",
    "master_name = soup.select(\"#guild-content > section > div.mb-4.row.text-center > div > section > div.member-grade > div > div > b > a\")\n",
    "master = soup.select(\"#guild-content > section > div.mb-4.row.text-center > div > section > div.member-grade > div > div > span\")\n",
    "master_name_list = [i.get_text() for i in master_name]\n",
    "master_list = [i.get_text() for i in master]\n",
    "\n",
    "master_job_level_list = master_list[0::2]\n",
    "master_date_list = master_list[1::2]"
   ],
   "metadata": {
    "collapsed": false,
    "pycharm": {
     "name": "#%%\n"
    }
   }
  },
  {
   "cell_type": "code",
   "execution_count": 6,
   "outputs": [],
   "source": [
    "people_name = soup.select(\"#guild-content > section > div > div > section > div > b > a\")\n",
    "people = soup.select(\"#guild-content > section > div > div > section > div > span\")\n",
    "people_name_list = [i.get_text() for i in people_name]\n",
    "people_list = [i.get_text() for i in people]\n",
    "\n",
    "people_job_level_list = people_list[0::2]\n",
    "people_date_list = people_list[1::2]"
   ],
   "metadata": {
    "collapsed": false,
    "pycharm": {
     "name": "#%%\n"
    }
   }
  },
  {
   "cell_type": "code",
   "execution_count": 7,
   "outputs": [],
   "source": [
    "all_name = master_name_list + people_name_list\n",
    "all_job_level = master_job_level_list + people_job_level_list\n",
    "all_job = [i.split(\"/\")[0] for i in all_job_level]\n",
    "all_level = [i.split(\"/\")[1] for i in all_job_level]\n",
    "all_date = master_date_list + people_date_list"
   ],
   "metadata": {
    "collapsed": false,
    "pycharm": {
     "name": "#%%\n"
    }
   }
  },
  {
   "cell_type": "code",
   "execution_count": 8,
   "outputs": [
    {
     "data": {
      "text/plain": "          name    job   level      last_date\n0         대장빵이     아크  Lv.250  마지막 활동일: 2일 전\n1         스로on  패스파인더  Lv.260  마지막 활동일: 1일 전\n2          꿀잼녀     아델  Lv.280  마지막 활동일: 1일 전\n3          진차차  나이트로드  Lv.278  마지막 활동일: 1일 전\n4        패파가문제  패스파인더  Lv.277  마지막 활동일: 1일 전\n..         ...    ...     ...            ...\n186      귀찮이루미   루미너스  Lv.207  마지막 활동일: 1일 전\n187   Protools     은월  Lv.204  마지막 활동일: 5일 전\n188        상호0     아델  Lv.203  마지막 활동일: 1일 전\n189       호영탑엥     호영  Lv.203  마지막 활동일: 1일 전\n190  dygkscsn5     제로  Lv.200  마지막 활동일: 1일 전\n\n[191 rows x 4 columns]",
      "text/html": "<div>\n<style scoped>\n    .dataframe tbody tr th:only-of-type {\n        vertical-align: middle;\n    }\n\n    .dataframe tbody tr th {\n        vertical-align: top;\n    }\n\n    .dataframe thead th {\n        text-align: right;\n    }\n</style>\n<table border=\"1\" class=\"dataframe\">\n  <thead>\n    <tr style=\"text-align: right;\">\n      <th></th>\n      <th>name</th>\n      <th>job</th>\n      <th>level</th>\n      <th>last_date</th>\n    </tr>\n  </thead>\n  <tbody>\n    <tr>\n      <th>0</th>\n      <td>대장빵이</td>\n      <td>아크</td>\n      <td>Lv.250</td>\n      <td>마지막 활동일: 2일 전</td>\n    </tr>\n    <tr>\n      <th>1</th>\n      <td>스로on</td>\n      <td>패스파인더</td>\n      <td>Lv.260</td>\n      <td>마지막 활동일: 1일 전</td>\n    </tr>\n    <tr>\n      <th>2</th>\n      <td>꿀잼녀</td>\n      <td>아델</td>\n      <td>Lv.280</td>\n      <td>마지막 활동일: 1일 전</td>\n    </tr>\n    <tr>\n      <th>3</th>\n      <td>진차차</td>\n      <td>나이트로드</td>\n      <td>Lv.278</td>\n      <td>마지막 활동일: 1일 전</td>\n    </tr>\n    <tr>\n      <th>4</th>\n      <td>패파가문제</td>\n      <td>패스파인더</td>\n      <td>Lv.277</td>\n      <td>마지막 활동일: 1일 전</td>\n    </tr>\n    <tr>\n      <th>...</th>\n      <td>...</td>\n      <td>...</td>\n      <td>...</td>\n      <td>...</td>\n    </tr>\n    <tr>\n      <th>186</th>\n      <td>귀찮이루미</td>\n      <td>루미너스</td>\n      <td>Lv.207</td>\n      <td>마지막 활동일: 1일 전</td>\n    </tr>\n    <tr>\n      <th>187</th>\n      <td>Protools</td>\n      <td>은월</td>\n      <td>Lv.204</td>\n      <td>마지막 활동일: 5일 전</td>\n    </tr>\n    <tr>\n      <th>188</th>\n      <td>상호0</td>\n      <td>아델</td>\n      <td>Lv.203</td>\n      <td>마지막 활동일: 1일 전</td>\n    </tr>\n    <tr>\n      <th>189</th>\n      <td>호영탑엥</td>\n      <td>호영</td>\n      <td>Lv.203</td>\n      <td>마지막 활동일: 1일 전</td>\n    </tr>\n    <tr>\n      <th>190</th>\n      <td>dygkscsn5</td>\n      <td>제로</td>\n      <td>Lv.200</td>\n      <td>마지막 활동일: 1일 전</td>\n    </tr>\n  </tbody>\n</table>\n<p>191 rows × 4 columns</p>\n</div>"
     },
     "execution_count": 8,
     "metadata": {},
     "output_type": "execute_result"
    }
   ],
   "source": [
    "df = pd.DataFrame( {\n",
    "    'name' : all_name,\n",
    "    'job' : all_job,\n",
    "    'level' : all_level,\n",
    "    'last_date' : all_date\n",
    "})\n",
    "\n",
    "df"
   ],
   "metadata": {
    "collapsed": false,
    "pycharm": {
     "name": "#%%\n"
    }
   }
  },
  {
   "cell_type": "code",
   "execution_count": 9,
   "outputs": [],
   "source": [
    "df.to_excel(\"output.xlsx\")"
   ],
   "metadata": {
    "collapsed": false,
    "pycharm": {
     "name": "#%%\n"
    }
   }
  },
  {
   "cell_type": "code",
   "execution_count": null,
   "outputs": [],
   "source": [],
   "metadata": {
    "collapsed": false,
    "pycharm": {
     "name": "#%%\n"
    }
   }
  }
 ],
 "metadata": {
  "kernelspec": {
   "display_name": "Python 3",
   "language": "python",
   "name": "python3"
  },
  "language_info": {
   "codemirror_mode": {
    "name": "ipython",
    "version": 2
   },
   "file_extension": ".py",
   "mimetype": "text/x-python",
   "name": "python",
   "nbconvert_exporter": "python",
   "pygments_lexer": "ipython2",
   "version": "2.7.6"
  }
 },
 "nbformat": 4,
 "nbformat_minor": 0
}